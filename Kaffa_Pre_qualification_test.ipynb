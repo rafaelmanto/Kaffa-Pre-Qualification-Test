{
  "nbformat": 4,
  "nbformat_minor": 0,
  "metadata": {
    "colab": {
      "name": "Kaffa - Pre-qualification test.ipynb",
      "provenance": [],
      "collapsed_sections": [
        "6pdoyleNmpKa",
        "JMQ1sqx3o-ut",
        "3Bx0KH-bpNAQ",
        "z-_ChfmK4BYV",
        "edieZMiMlg-L",
        "AzGA8hzS6qq4"
      ],
      "authorship_tag": "ABX9TyPi8Fv7m/dp8gKLoGeyVwVn",
      "include_colab_link": true
    },
    "kernelspec": {
      "name": "python3",
      "display_name": "Python 3"
    }
  },
  "cells": [
    {
      "cell_type": "markdown",
      "metadata": {
        "id": "view-in-github",
        "colab_type": "text"
      },
      "source": [
        "<a href=\"https://colab.research.google.com/github/rafaelmanto/Kaffa-Pre-Qualification-Test/blob/main/Kaffa_Pre_qualification_test.ipynb\" target=\"_parent\"><img src=\"https://colab.research.google.com/assets/colab-badge.svg\" alt=\"Open In Colab\"/></a>"
      ]
    },
    {
      "cell_type": "markdown",
      "metadata": {
        "id": "6pdoyleNmpKa"
      },
      "source": [
        "#Kaffa - Pre-qualification test\n",
        "These codes were written in python3 by Rafael Mantovani Espíndola Pessôa.\n"
      ]
    },
    {
      "cell_type": "markdown",
      "metadata": {
        "id": "JMQ1sqx3o-ut"
      },
      "source": [
        "##Exercises 1 to 4"
      ]
    },
    {
      "cell_type": "markdown",
      "metadata": {
        "id": "3Bx0KH-bpNAQ"
      },
      "source": [
        "###1) Validate CNPJ format (Mask)\n",
        "Given a string, check if it looks like a CNPJ, considering two formats: \n",
        "\n",
        "- Formatted: \n",
        "\"00.000.000/0000-00\" \n",
        "\n",
        "- Number only: \n",
        "\"00000000000000\" \n"
      ]
    },
    {
      "cell_type": "markdown",
      "metadata": {
        "id": "vMy5ayB_VHzN"
      },
      "source": [
        "**Notes about the code**:  \n",
        "In this exercise I will use regex as it's a powerfull tool for searching patterns in strings. Note that regex it isn't solving the core of the exercise, but the pattern that I developed that is."
      ]
    },
    {
      "cell_type": "code",
      "metadata": {
        "id": "0zrS0x9UyNi3"
      },
      "source": [
        "import re\n",
        "\n",
        "def isCNPJFormat(string):\n",
        "  '''\n",
        "  isCNPJFormat(string) -> bool\n",
        "  Return True if argument string is in CNPJ format, otherwise return False.\n",
        "  '''\n",
        "  formatted = re.compile(\"\\d{2}\\.\\d{3}\\.\\d{3}/\\d{4}-\\d{2}$\")\n",
        "  numberOnly = re.compile(\"\\d{14}$\")\n",
        "  isCNPJFormat = formatted.match(string) or numberOnly.match(string)\n",
        "  \n",
        "  return bool(isCNPJFormat)"
      ],
      "execution_count": null,
      "outputs": []
    },
    {
      "cell_type": "code",
      "metadata": {
        "id": "l7KY8jmso3ds",
        "outputId": "d6d9644b-f614-4eff-dc00-73af288baaa2",
        "colab": {
          "base_uri": "https://localhost:8080/"
        }
      },
      "source": [
        "string = \"15.799.008/0001-37\"\n",
        "# string = \"00.000.000/0000-0302\" \n",
        "# string = \"00000000000000\"\n",
        "# string = \"000000000000001\"\n",
        "print(isCNPJFormat(string))"
      ],
      "execution_count": null,
      "outputs": [
        {
          "output_type": "stream",
          "text": [
            "True\n"
          ],
          "name": "stdout"
        }
      ]
    },
    {
      "cell_type": "markdown",
      "metadata": {
        "id": "z-_ChfmK4BYV"
      },
      "source": [
        "###2) Validate CNPJ Digits\n",
        "Given a string validate if it’s a well-formed CNPJ, considering the “check digits” as defined by ReceitaFederal."
      ]
    },
    {
      "cell_type": "code",
      "metadata": {
        "id": "rkp1ax5x4VCh"
      },
      "source": [
        "def isCNPJ(string):\n",
        "  '''\n",
        "  isCNPJ(string) -> bool\n",
        "  Return true if given string is a valid CNPJ, otherwise return false.\n",
        "  '''\n",
        "\n",
        "  # weights used on the calculation of the check digits\n",
        "  weights1 = reversed([2,3,4,5,6,7,8,9,2,3,4,5])\n",
        "  weights2 = reversed([2,3,4,5,6,7,8,9,2,3,4,5,6])\n",
        "  \n",
        "  if isCNPJFormat(string): \n",
        "    stringDigits = [int(x) for x in filter(str.isdigit, string)]\n",
        "    CD1 = stringDigits.pop(12)\n",
        "    CD2 = stringDigits.pop(12)\n",
        "\n",
        "    trueCD1 = 11 - (sum([x * y for x, y in zip(stringDigits, weights1)]) % 11)\n",
        "    trueCD1 = trueCD1 if trueCD1 < 10 else 0\n",
        "\n",
        "    stringDigits.append(trueCD1)\n",
        "\n",
        "    trueCD2 = 11 - (sum([x * y for x, y in zip(stringDigits, weights2)]) % 11)\n",
        "    trueCD2 = trueCD2 if trueCD2 < 10 else 0\n",
        "\n",
        "    if trueCD1 == CD1 and trueCD2 == CD2:\n",
        "      return True\n",
        "    else:\n",
        "      return False\n",
        "  else:\n",
        "    return False"
      ],
      "execution_count": null,
      "outputs": []
    },
    {
      "cell_type": "code",
      "metadata": {
        "id": "ztXtRed8k9BI",
        "outputId": "ab97d656-8952-43cb-ff5e-47422ca25142",
        "colab": {
          "base_uri": "https://localhost:8080/"
        }
      },
      "source": [
        "string = \"15.799.008/0001-37\"\n",
        "# string = \"15.799.008/0001-36\"\n",
        "# string = \"33333333333333\"\n",
        "isCNPJ(string)"
      ],
      "execution_count": null,
      "outputs": [
        {
          "output_type": "execute_result",
          "data": {
            "text/plain": [
              "True"
            ]
          },
          "metadata": {
            "tags": []
          },
          "execution_count": 319
        }
      ]
    },
    {
      "cell_type": "markdown",
      "metadata": {
        "id": "edieZMiMlg-L"
      },
      "source": [
        "###3) Test if two rectangles intersect\n",
        "Considering two rectangles in a discrete grid (like pixels in a display), each defined by two points, return true if they intersect, false otherwise.\n",
        "\n",
        "**Note**: the points are **included** in the rectangle and have a dimension of 1 unit; the rectangle (0, 0; 1, 1) have an area of 4 units."
      ]
    },
    {
      "cell_type": "code",
      "metadata": {
        "id": "N2Pv1dfMEdaH"
      },
      "source": [
        "def getBLandURVertices(X):\n",
        "  '''\n",
        "  getBLandURVertices(tuple) -> bool\n",
        "  Return the bottom left vertex and the upper right vertex of given tuple X of 2 vertices of a rectangle.\n",
        "  '''\n",
        " \n",
        "  X = ((min(X[0][0], X[1][0]), min(X[0][1], X[1][1])), (max(X[0][0], (X[1][0])), max(X[0][1], (X[1][1]))))\n",
        "  return X"
      ],
      "execution_count": null,
      "outputs": []
    },
    {
      "cell_type": "code",
      "metadata": {
        "id": "KxCFDFarmjgu"
      },
      "source": [
        "def rectanglesIntersect(X, Y):\n",
        "  '''\n",
        "  rectanglesIntersect(tuple, tuple) -> tuple\n",
        "  Return True if 2 rectangles, each defined by a tuple with 2 vertices, intersect with each other, otherwise return False.\n",
        "  '''\n",
        "\n",
        "  X = getBLandURVertices(X)\n",
        "  Y = getBLandURVertices(Y)\n",
        "\n",
        "  if (X[1][0] < Y[0][0]) or (X[1][1] < Y[0][1]) or (X[0][0] > Y[1][0]) or (X[0][1] > Y[1][1]):\n",
        "    return False\n",
        "  else:\n",
        "    return True"
      ],
      "execution_count": null,
      "outputs": []
    },
    {
      "cell_type": "code",
      "metadata": {
        "id": "RQIQPZkJyP_P",
        "outputId": "d8a8b924-38fa-4ae5-8859-3ae4e01014ae",
        "colab": {
          "base_uri": "https://localhost:8080/"
        }
      },
      "source": [
        "A = ((3, 5), (11, 11))\n",
        "B = ((7, 2), (13, 7))\n",
        "C = ((11, 11), (15, 13))\n",
        "print(rectanglesIntersect(A, B))\n",
        "print(rectanglesIntersect(A, C))\n",
        "print(rectanglesIntersect(B, C))"
      ],
      "execution_count": null,
      "outputs": [
        {
          "output_type": "stream",
          "text": [
            "True\n",
            "True\n",
            "False\n"
          ],
          "name": "stdout"
        }
      ]
    },
    {
      "cell_type": "markdown",
      "metadata": {
        "id": "AzGA8hzS6qq4"
      },
      "source": [
        "###4) Compute area of intersection between two rectangles\n",
        "Considering two rectangles in a discrete grid (like pixels in a display), each defined by two points, computethe area of intersection between the two.\n",
        "\n",
        "**Note**: the points are **included** in the rectangle and have a dimension of 1 unit; the rectangle (0, 0; 1, 1) have an area of 4 units."
      ]
    },
    {
      "cell_type": "code",
      "metadata": {
        "id": "Z4TCzZSR612R"
      },
      "source": [
        "def rectanglesIntersectionArea(X, Y):\n",
        "  '''\n",
        "  rectanglesIntersectionArea(tuple, tuple) -> int\n",
        "  Return the area of intersection between 2 rectangles, each defined by a tuple with 2 vertices.\n",
        "  '''\n",
        "  X = getBLandURVertices(X)\n",
        "  Y = getBLandURVertices(Y)\n",
        "\n",
        "  if rectanglesIntersect(X, Y):\n",
        "    intersectionRectangle = ((max(X[0][0], Y[0][0]), max(X[0][1], Y[0][1])), (min(X[1][0], Y[1][0]), min(X[1][1], Y[1][1]))) \n",
        "    (a, b), (c, d) = intersectionRectangle # Z = ((a,b), (c,d))\n",
        "    area = (c - a + 1)*(d - b + 1)\n",
        "    \n",
        "    return area\n",
        "  else:\n",
        "    return 0"
      ],
      "execution_count": null,
      "outputs": []
    },
    {
      "cell_type": "code",
      "metadata": {
        "id": "7B_0kQrgJPIP",
        "outputId": "bbc6d595-e064-407e-ce32-91baad33afc0",
        "colab": {
          "base_uri": "https://localhost:8080/"
        }
      },
      "source": [
        "A = ((3, 5), (11, 11))\n",
        "B = ((7, 2), (13, 7))\n",
        "C = ((11, 11), (15, 13))\n",
        "print(rectanglesIntersectionArea(A, B))\n",
        "print(rectanglesIntersectionArea(A, C))\n",
        "print(rectanglesIntersectionArea(B, C))"
      ],
      "execution_count": null,
      "outputs": [
        {
          "output_type": "stream",
          "text": [
            "15\n",
            "1\n",
            "0\n"
          ],
          "name": "stdout"
        }
      ]
    }
  ]
}